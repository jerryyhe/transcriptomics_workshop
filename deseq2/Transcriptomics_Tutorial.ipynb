{
 "cells": [
  {
   "cell_type": "markdown",
   "metadata": {},
   "source": [
    "# Transcriptomics Tutorial 🫠"
   ]
  },
  {
   "cell_type": "markdown",
   "metadata": {},
   "source": [
    "## Pre-Processing\n",
    "### 1. FASTP"
   ]
  },
  {
   "cell_type": "raw",
   "metadata": {
    "vscode": {
     "languageId": "r"
    }
   },
   "source": [
    "fastp -i data/F01_R1_1M.fastq -I data/F01_R2_1M.fastq -o outputs/1_fastp_outputs/F01_R1_1M.fastq.gz -O outputs/1_fastp_outputs/F01_R2_1M.fastq.gz --html outputs/1_fastp_outputs/fastp.html --merge --merged_out outputs/1_fastp_outputs/F01_1M.merged.fastq.gz"
   ]
  },
  {
   "cell_type": "markdown",
   "metadata": {},
   "source": [
    "### 2. DIAMOND Annotation"
   ]
  },
  {
   "cell_type": "raw",
   "metadata": {},
   "source": [
    "diamond blastx -d databases/RefSeq_bac_TINY_24MB.dmnd -q outputs/1_fastp_outputs/F01_1M.merged.fastq.gz -o outputs/annotations.tsv"
   ]
  },
  {
   "cell_type": "markdown",
   "metadata": {},
   "source": [
    "### 3. Read Counting (Aggregation)"
   ]
  },
  {
   "cell_type": "raw",
   "metadata": {},
   "source": [
    "diamond_analysis_counter.py -I outputs/annotations.tsv -D databases/RefSeq_bac_TINY_24MB.fa -O -F"
   ]
  },
  {
   "cell_type": "markdown",
   "metadata": {},
   "source": [
    "## DESeq2\n",
    "### 0. Getting Started\n",
    "#### 0.1 Package Installation: Skip if you have these packages already!"
   ]
  },
  {
   "cell_type": "code",
   "execution_count": 8,
   "metadata": {
    "vscode": {
     "languageId": "r"
    }
   },
   "outputs": [
    {
     "name": "stdout",
     "output_type": "stream",
     "text": [
      "[1] \"Package already installed\"\n",
      "[1] \"Package already installed\"\n",
      "[1] \"Package already installed\"\n"
     ]
    }
   ],
   "source": [
    "# Install Tidyverse\n",
    "if (!requireNamespace(\"tidyverse\", quietly = TRUE)) {\n",
    "  install.packages(\"tidyverse\", repos = \"https://cloud.r-project.org/\")\n",
    "} else {print(\"Package already installed\")}\n",
    "\n",
    "# Install BiocManager\n",
    "if (!requireNamespace(\"BiocManager\", quietly = TRUE)) {\n",
    "  install.packages(\"BiocManager\", repos = \"https://cloud.r-project.org/\")\n",
    "} else {print(\"Package already installed\")}\n",
    "\n",
    "# Install DESeq2\n",
    "if (!requireNamespace(\"DESeq2\", quietly = TRUE)) {\n",
    "  BiocManager::install(\"DESeq2\")\n",
    "} else {print(\"Package already installed\")}"
   ]
  },
  {
   "cell_type": "markdown",
   "metadata": {},
   "source": [
    "#### 0.2 Load Packages"
   ]
  },
  {
   "cell_type": "code",
   "execution_count": 9,
   "metadata": {
    "vscode": {
     "languageId": "r"
    }
   },
   "outputs": [],
   "source": [
    "suppressPackageStartupMessages(library(tidyverse))\n",
    "suppressPackageStartupMessages(library(DESeq2))"
   ]
  },
  {
   "cell_type": "markdown",
   "metadata": {},
   "source": [
    "### 1. Constructing a DESeqDataSet Object from SAMSA2 Outputs\n",
    "\n",
    "Get the resulting `.tsv` files from your `output5` folder after running the SAMSA2 pipeline and place them in the same working directory of your script or in a sub-directory.\n",
    "\n",
    "#### 1.1 Define Functions"
   ]
  },
  {
   "cell_type": "code",
   "execution_count": 10,
   "metadata": {
    "vscode": {
     "languageId": "r"
    }
   },
   "outputs": [],
   "source": [
    "# Loads files from a directory\n",
    "load_files <- function(directory) {\n",
    "  strain_files <- list.files(path = directory, pattern = \"*.tsv\", full.names = TRUE, recursive = FALSE)\n",
    "  return(strain_files)\n",
    "}\n",
    "\n",
    "\n",
    "# files_to_array take the filenames from the load_files() output and concatenated them into a large dataframe\n",
    "files_to_array <- function(strain_files) {\n",
    "  df_exists <- FALSE \n",
    "  \n",
    "  for(f in strain_files){\n",
    "    if(df_exists == FALSE){ \n",
    "      df <- read_tsv(file = f, col_names = c(\"x\", \"count\", \"Function\")) \n",
    "      df_formatted <- format_df(df, f) \n",
    "      df_exists <- TRUE \n",
    "    }\n",
    "    else{\n",
    "      df <- read_tsv(file = f, col_names = c(\"x\", \"count\", \"Function\"))\n",
    "      df_to_add <- format_df(df, f)\n",
    "      df_formatted <- full_join(df_formatted, df_to_add) \n",
    "    }\n",
    "  }\n",
    "\n",
    "  df_formatted <- as.data.frame(mutate_all(df_formatted, ~replace(., is.na(.), 0)))\n",
    "  return(df_formatted)\n",
    "}\n",
    "\n",
    "# format_df is a helper function used in files_to_array() that helps join dataframes\n",
    "format_df <- function(df, file){\n",
    "  file_name <- tools::file_path_sans_ext(basename(file)) \n",
    "  df[(file_name)] <- df %>% \n",
    "    pull(count)\n",
    "  \n",
    "  df <- df %>% select(-x, -count)\n",
    "  return(df)    \n",
    "}"
   ]
  },
  {
   "cell_type": "markdown",
   "metadata": {},
   "source": [
    "#### 1.2 Load Count Data\n",
    "\n",
    "Now, we can load the files and create a count matrix using the self-defined and Base R functions - just change the dir variable and store the path of your directory."
   ]
  },
  {
   "cell_type": "code",
   "execution_count": 11,
   "metadata": {
    "vscode": {
     "languageId": "r"
    }
   },
   "outputs": [],
   "source": [
    "# Store the path of the directory containing your read counts (unnormalized)\n",
    "dir <- \"function_results/\"\n",
    "\n",
    "# Parses through each .tsv read count file and joins them together.\n",
    "dat <- load_files(dir) %>% \n",
    "  files_to_array() %>% \n",
    "  suppressMessages()\n",
    "\n",
    "# Turn the dataframe into a matrix of integers\n",
    "dat_matrix <- column_to_rownames(dat, \"Function\") %>% as.matrix()"
   ]
  },
  {
   "cell_type": "markdown",
   "metadata": {},
   "source": [
    "#### 1.3 Load Metadata\n",
    "\n",
    "Make a metadata file that contains your sample names in the first column and any other metadata categories you need.\n",
    "\n",
    "-   I would recommend using MS Excel for this and loading the metadata file!\n",
    "-   *NOTE* It is critical that the the columns of that count matrix and the rows of the column data are in the same order and have the same name. The order and name must be consistent.\n",
    "-   It's a good idea to store the metadata file in the same directory that your R script is in."
   ]
  },
  {
   "cell_type": "code",
   "execution_count": 12,
   "metadata": {
    "vscode": {
     "languageId": "r"
    }
   },
   "outputs": [
    {
     "ename": "ERROR",
     "evalue": "Error in eval(expr, envir, enclos): object 'filename' not found\n",
     "output_type": "error",
     "traceback": [
      "Error in eval(expr, envir, enclos): object 'filename' not found\nTraceback:\n",
      "1. read.csv(filename, row.names = 1)",
      "2. read.table(file = file, header = header, sep = sep, quote = quote, \n .     dec = dec, fill = fill, comment.char = comment.char, ...)"
     ]
    }
   ],
   "source": [
    "# Load metadata with first column the rownames\n",
    "metadata <- read.csv(filename, row.names = 1)\n",
    "\n",
    "# Converts all columns to factors. They MUST be factors \n",
    "metadata <- metadata %>% \n",
    "  mutate(across(everything(), ~as.factor(.)))\n",
    "\n",
    "# Check if the rownames and the colnames are in the same order and have the same names\n",
    "all(rownames(metadata) == colnames(dat_matrix))"
   ]
  },
  {
   "cell_type": "markdown",
   "metadata": {},
   "source": [
    "#### 1.4 Creating a DESeqDataSet Object\n",
    "\n",
    "Load your count matrix (dat_matrix) and the sample information (metadata) to construct the DESeqDataSet object"
   ]
  },
  {
   "cell_type": "code",
   "execution_count": null,
   "metadata": {
    "vscode": {
     "languageId": "r"
    }
   },
   "outputs": [],
   "source": [
    "dds <- DESeqDataSetFromMatrix(countData = dat,\n",
    "                              colData = metadata,\n",
    "                              design = ~Media)\n",
    "\n",
    "dds"
   ]
  },
  {
   "cell_type": "markdown",
   "metadata": {},
   "source": [
    "### 2. Data Preparation\n",
    "#### 2.1 Refactoring to Specify the Control (Baseline) Condition\n",
    "\n",
    "By default R will choose a reference level for factors based on alphabetical order, which will be how DESeq2 will interpret it. Since we want DESeq2 to use the 'control' condition as reference, we need to tell it which one it is. \n"
   ]
  },
  {
   "cell_type": "code",
   "execution_count": null,
   "metadata": {
    "vscode": {
     "languageId": "r"
    }
   },
   "outputs": [],
   "source": [
    "# Change \"base\" to the name of your baseline control condition.\n",
    "dds$Condition <- relevel(dds$Condition, ref = \"Planktonic\")"
   ]
  },
  {
   "cell_type": "markdown",
   "metadata": {},
   "source": [
    "### 3. Differential Gene Expression Analysis\n",
    "\n",
    "The standard differential expression analysis steps are wrapped into a single function, `DESeq()`. Results tables are generated using the function `results()`, the log2 fold change and Wald test p-value will be for the last variable in the design formula, and if this is a factor, the comparison will be the last level of this variable over the reference level. The order of the variables of the design do not matter so long as the user specifies the comparison to build a result table for using the name or contrast argument of results.\n",
    "\n",
    "#### 3.1 Perform DE Analysis"
   ]
  },
  {
   "cell_type": "code",
   "execution_count": null,
   "metadata": {
    "vscode": {
     "languageId": "r"
    }
   },
   "outputs": [],
   "source": [
    "dds <- DESeq(dds)"
   ]
  },
  {
   "cell_type": "markdown",
   "metadata": {},
   "source": [
    "Check the results of your DESeqDataSet object."
   ]
  },
  {
   "cell_type": "code",
   "execution_count": null,
   "metadata": {
    "vscode": {
     "languageId": "r"
    }
   },
   "outputs": [],
   "source": [
    "resultsNames(dds)"
   ]
  },
  {
   "cell_type": "markdown",
   "metadata": {},
   "source": [
    "#### 3.2 Extracting Results"
   ]
  },
  {
   "cell_type": "code",
   "execution_count": null,
   "metadata": {
    "vscode": {
     "languageId": "r"
    }
   },
   "outputs": [],
   "source": [
    "res <- results(dds)"
   ]
  },
  {
   "cell_type": "markdown",
   "metadata": {},
   "source": [
    "#### 3.3 Exporting Results"
   ]
  },
  {
   "cell_type": "code",
   "execution_count": null,
   "metadata": {
    "vscode": {
     "languageId": "r"
    }
   },
   "outputs": [],
   "source": [
    "# write_csv(as.data.frame(res), \"output_file.csv\")"
   ]
  },
  {
   "cell_type": "markdown",
   "metadata": {},
   "source": [
    "### 4. Exploring Results\n",
    "#### 4.1 MA Plots\n",
    "The M stands for the log ratio. This is essentially representing the ratio of counts in the condition vs the control. The A stands for the mean average and is represented on the x-axis.\n",
    "\n",
    "Point will be coloured red if the adjusted p-value is less than 0.1. Points which fall out of the window are plotted as open triangle.\n"
   ]
  },
  {
   "cell_type": "code",
   "execution_count": null,
   "metadata": {
    "vscode": {
     "languageId": "r"
    }
   },
   "outputs": [],
   "source": [
    "plotMA(res)"
   ]
  },
  {
   "cell_type": "markdown",
   "metadata": {},
   "source": [
    "More information about the results column"
   ]
  },
  {
   "cell_type": "code",
   "execution_count": null,
   "metadata": {
    "vscode": {
     "languageId": "r"
    }
   },
   "outputs": [],
   "source": [
    "mcols(res)$description"
   ]
  },
  {
   "cell_type": "markdown",
   "metadata": {},
   "source": [
    "#### 4.2. Plot Counts\n",
    "\n",
    "-   It can be useful to examine the counts of reads for a single gene across the groups.\n",
    "-   A simple function for making this plot is plotCounts, which normalizes the counts by the estimated size factor, and adds pseudocounts of 1/2 to allow for log scale plotting.\n",
    "-   Counts are grouped by the variables in `intgroup`, where more than one variable can be specified.\n",
    "\n",
    "Below we specified the gene with the smallest p-value from the results tables created above."
   ]
  },
  {
   "cell_type": "code",
   "execution_count": null,
   "metadata": {
    "vscode": {
     "languageId": "r"
    }
   },
   "outputs": [],
   "source": [
    "plotCounts(dds, gene=which.min(res$padj), intgroup=\"Condition\")"
   ]
  },
  {
   "cell_type": "markdown",
   "metadata": {},
   "source": [
    "For customized plotting with ggplot, an argument `ReturnData` specifies that the function should only return a `data.frame` for plotting with ggplot.\n"
   ]
  },
  {
   "cell_type": "code",
   "execution_count": null,
   "metadata": {
    "vscode": {
     "languageId": "r"
    }
   },
   "outputs": [],
   "source": [
    "count_data <- plotCounts(dds, gene=which.min(res$padj), intgroup=\"Condition\", \n",
    "                returnData=TRUE, )\n",
    "\n",
    "count_data %>% \n",
    "  ggplot(aes(x = Condition, y = count)) + \n",
    "    geom_point(position = position_jitter()) +\n",
    "    theme_bw()"
   ]
  },
  {
   "cell_type": "markdown",
   "metadata": {},
   "source": [
    "#### 4.3 Extracting Normalized Counts\n",
    "This is an alternative method of obtaining a dataframe with normalized counts."
   ]
  },
  {
   "cell_type": "code",
   "execution_count": null,
   "metadata": {
    "vscode": {
     "languageId": "r"
    }
   },
   "outputs": [],
   "source": [
    "# Set species separator variable\n",
    "species_sep = \"_EB_\"\n",
    "\n",
    "# Get the size factors\n",
    "ddsSF <- estimateSizeFactors(dds)\n",
    "\n",
    "# Get normalized counts\n",
    "normalized_counts = counts(ddsSF, normalized = TRUE)\n",
    "\n",
    "# Separate the Function column into locus tag and product columns\n",
    "normalized_counts <- normalized_counts %>% \n",
    "  as.data.frame() %>% \n",
    "  rownames_to_column(var = \"Function\") %>% \n",
    "  separate(col = Function, into = c(\"Locus_tag\", \"Product\"), sep = species_sep, extra = \"merge\")"
   ]
  },
  {
   "cell_type": "markdown",
   "metadata": {},
   "source": [
    "### 5. Data Quality Assesment by Sample Clustering and Visualization\n",
    "#### 5.1 Count Data Transformations\n",
    "\n",
    "-   In order to test for differential expression, we operate on raw counts and use discrete distributions.\n",
    "-   However, for other downstream analyses like visualization or clustering it might be useful to work with a transformed version of the count data. The most obvious transformation is logarithmic, but since some values for a gene can be zero in some conditions and non-zero in other, some advocate for the use of pseudocounts (i.e. transformation of the form log2(n+no), where N0 is a positive constant).\n",
    "\n",
    "Function `VST` and `rlog` produce transformed data on the log2 scale which has been normalized with respect to library size or other normalization factors."
   ]
  },
  {
   "cell_type": "code",
   "execution_count": null,
   "metadata": {
    "vscode": {
     "languageId": "r"
    }
   },
   "outputs": [],
   "source": [
    "vsd <- vst(dds, blind = FALSE) # variance-stabilizing transformation\n",
    "rld <- rlog(dds, blind = FALSE) # regularize log transformation\n",
    "\n",
    "head(assay(vsd), 3)"
   ]
  },
  {
   "cell_type": "markdown",
   "metadata": {},
   "source": [
    "#### 5.2 PCA Plot "
   ]
  },
  {
   "cell_type": "code",
   "execution_count": null,
   "metadata": {
    "vscode": {
     "languageId": "r"
    }
   },
   "outputs": [],
   "source": [
    "pcaData <- plotPCA(vsd, intgroup = c(\"Condition\"), returnData=TRUE)\n",
    "percentVar <- round(100 * attr(pcaData, \"percentVar\"))\n",
    "PCA_plt <- pcaData %>% \n",
    "  ggplot(aes(PC1, PC2, colour = Condition)) +\n",
    "  geom_point(size = 3) +\n",
    "  xlab(paste0(\"PC1: \",percentVar[1],\"% variance\")) +\n",
    "  ylab(paste0(\"PC2: \",percentVar[2],\"% variance\")) + \n",
    "  coord_fixed() +\n",
    "  theme_light() +\n",
    "      theme(panel.border = element_rect(color = \"black\", linewidth = 1.5),\n",
    "        panel.grid = element_line(colour = \"white\"),\n",
    "        axis.ticks = element_line(color = \"black\", size = 1),\n",
    "        strip.text.x = element_blank(),\n",
    "        axis.title = element_text(size = 12),\n",
    "        axis.text.x = element_text(colour = \"black\", size = 12.5),\n",
    "        axis.text.y = element_text(colour = \"black\", size = 12.5),\n",
    "        legend.text = element_text(size = 12.5),\n",
    "        legend.title = element_blank()\n",
    "        ) +\n",
    "  scale_colour_discrete(labels = c(\"Mucin (Biofilm)\", \"Mucin (Planktonic)\")) \n",
    "\n",
    "plot(PCA_plt)"
   ]
  }
 ],
 "metadata": {
  "kernelspec": {
   "display_name": "R",
   "language": "R",
   "name": "ir"
  },
  "language_info": {
   "codemirror_mode": "r",
   "file_extension": ".r",
   "mimetype": "text/x-r-source",
   "name": "R",
   "pygments_lexer": "r",
   "version": "4.3.1"
  }
 },
 "nbformat": 4,
 "nbformat_minor": 2
}
